{
 "cells": [
  {
   "cell_type": "code",
   "execution_count": null,
   "metadata": {},
   "outputs": [],
   "source": [
    "import warnings\n",
    "warnings.filterwarnings('ignore')\n",
    "\n",
    "import numpy as np\n",
    "import pandas as pd\n",
    "import seaborn as sns\n",
    "import matplotlib.pyplot as plt\n",
    "from sklearn import linear_model\n",
    "from sklearn import  metrics\n",
    "\n",
    "%matplotlib inline\n"
   ]
  },
  {
   "cell_type": "code",
   "execution_count": null,
   "metadata": {},
   "outputs": [],
   "source": [
    "import os\n",
    "working_directory=os.getcwd()\n",
    "print (working_directory)"
   ]
  },
  {
   "cell_type": "code",
   "execution_count": null,
   "metadata": {},
   "outputs": [],
   "source": [
    "path=working_directory + '/slr06.csv'\n",
    "data=pd.read_csv(path)\n",
    "data.head(50)\n",
    "print(df)"
   ]
  },
  {
   "cell_type": "code",
   "execution_count": null,
   "metadata": {},
   "outputs": [],
   "source": [
    "data.hist();"
   ]
  },
  {
   "cell_type": "code",
   "execution_count": null,
   "metadata": {},
   "outputs": [],
   "source": [
    "X = data.iloc[:, :-1].values\n",
    "Y = data.iloc[:, 1].values\n"
   ]
  },
  {
   "cell_type": "code",
   "execution_count": null,
   "metadata": {},
   "outputs": [],
   "source": [
    "import matplotlib.pyplot as plt\n",
    "\n",
    "\n",
    "y1 = data.X\n",
    "y2 = data.Y\n",
    "\n",
    "plt.rcParams[\"figure.figsize\"] = (20,3)\n",
    "\n",
    "plt.plot(y1, linewidth = '2', marker = 'o')\n",
    "plt.plot(y2, linewidth = '2', marker = 'o')\n",
    "\n",
    "plt.xlabel(\"Claim\")\n",
    "plt.ylabel(\"Payment\")\n",
    "\n",
    "plt.grid()\n",
    "plt.show()"
   ]
  },
  {
   "cell_type": "code",
   "execution_count": null,
   "metadata": {},
   "outputs": [],
   "source": [
    "fig, (ax1, ax2) = plt.subplots(1,2,figsize=(15,5))\n",
    "\n",
    "ax1.set_title('Distribution of feature X i.e. Number of Claims')\n",
    "sns.distplot(data.X,bins=50,ax=ax1)\n",
    "\n",
    "ax2.set_title('Distribution of label Y i.e. Total Payment for Corresponding claims')\n",
    "sns.distplot(data.Y,bins=50,ax=ax2)"
   ]
  },
  {
   "cell_type": "code",
   "execution_count": null,
   "metadata": {},
   "outputs": [],
   "source": [
    "correlations = data.corr(method='pearson')\n",
    "print(correlations)"
   ]
  },
  {
   "cell_type": "code",
   "execution_count": null,
   "metadata": {},
   "outputs": [],
   "source": [
    "skew = data.skew()\n",
    "print(skew)"
   ]
  },
  {
   "cell_type": "code",
   "execution_count": null,
   "metadata": {},
   "outputs": [],
   "source": [
    "fig, (ax1, ax2) = plt.subplots(1,2,figsize=(10,5))\n",
    "\n",
    "ax1.set_ylim(-50,150)\n",
    "ax1.set_title('Boxplot for X')\n",
    "sns.boxplot(y='X',data=data,ax=ax1,)\n",
    "sns.stripplot(y='X',color='green',data=data,jitter=True,ax=ax1,alpha=0.5)\n",
    "\n",
    "ax2.set_ylim(-50,150)\n",
    "ax2.set_title('Violinplot for X')\n",
    "sns.violinplot(y='X',data=data,ax=ax2)\n",
    "sns.stripplot(y='X',color='green',data=data,jitter=True,ax=ax2,alpha=0.5)\n"
   ]
  },
  {
   "cell_type": "code",
   "execution_count": null,
   "metadata": {},
   "outputs": [],
   "source": [
    "fig , (ax1) = plt.subplots(1,1,figsize=(10,4))\n",
    "\n",
    "ax1.set_title('Scatter plot between feature and Label')\n",
    "sns.regplot(data=data,x='X',y='Y',ax=ax1)\n"
   ]
  },
  {
   "cell_type": "code",
   "execution_count": null,
   "metadata": {},
   "outputs": [],
   "source": [
    "from sklearn import  metrics\n",
    "from sklearn import linear_model\n",
    "X = pd.DataFrame(data.X)\n",
    "Y = data.Y\n",
    "regr = linear_model.LinearRegression()\n",
    "regr.fit(X,Y)\n",
    "Y_pred = regr.predict(X)\n",
    "mse = metrics.mean_squared_error(Y_pred,Y)\n"
   ]
  },
  {
   "cell_type": "code",
   "execution_count": null,
   "metadata": {},
   "outputs": [],
   "source": [
    "from sklearn.model_selection import train_test_split\n",
    "X_Train, X_Test, Y_Train, Y_Test = train_test_split(X, Y, test_size = 1/3, random_state = 0)\n"
   ]
  },
  {
   "cell_type": "code",
   "execution_count": null,
   "metadata": {},
   "outputs": [],
   "source": [
    "from sklearn.linear_model import LinearRegression\n",
    "regressor = LinearRegression()\n",
    "regressor.fit(X_Train, Y_Train)\n"
   ]
  },
  {
   "cell_type": "code",
   "execution_count": null,
   "metadata": {},
   "outputs": [],
   "source": [
    "Y_Pred = regressor.predict(X_Test)"
   ]
  },
  {
   "cell_type": "code",
   "execution_count": null,
   "metadata": {},
   "outputs": [],
   "source": [
    "plt.scatter(X_Train, Y_Train, color = 'red')\n",
    "plt.plot(X_Train, regressor.predict(X_Train), color = 'blue')\n",
    "plt.title('Total payment for all claims vs no of claims  (Training Set)')\n",
    "plt.xlabel('no of claims')\n",
    "plt.ylabel('total payment for all claims')\n",
    "plt.show()"
   ]
  },
  {
   "cell_type": "code",
   "execution_count": null,
   "metadata": {},
   "outputs": [],
   "source": [
    "plt.scatter(X_Test, Y_Test, color = 'red')\n",
    "plt.plot(X_Train, regressor.predict(X_Train), color = 'blue')\n",
    "plt.title('Total payment for all claims vs no of claims  (Training Set)')\n",
    "plt.xlabel('no of claims')\n",
    "plt.ylabel('total payment for all claims')\n",
    "plt.show()"
   ]
  },
  {
   "cell_type": "code",
   "execution_count": null,
   "metadata": {},
   "outputs": [],
   "source": [
    "regressor.score(X, Y)"
   ]
  },
  {
   "cell_type": "code",
   "execution_count": null,
   "metadata": {},
   "outputs": [],
   "source": []
  }
 ],
 "metadata": {
  "kernelspec": {
   "display_name": "Python 3",
   "language": "python",
   "name": "python3"
  },
  "language_info": {
   "codemirror_mode": {
    "name": "ipython",
    "version": 3
   },
   "file_extension": ".py",
   "mimetype": "text/x-python",
   "name": "python",
   "nbconvert_exporter": "python",
   "pygments_lexer": "ipython3",
   "version": "3.8.5"
  }
 },
 "nbformat": 4,
 "nbformat_minor": 4
}
